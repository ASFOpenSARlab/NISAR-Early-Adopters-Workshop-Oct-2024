{
 "cells": [
  {
   "cell_type": "markdown",
   "id": "d3a54adc-b482-4557-93a6-707a69bc3118",
   "metadata": {},
   "source": [
    "# Notebook: Install Required Software with Conda\n",
    "\n",
    "*Author: Alex Lewandowski; Alaska Satellite Facility*\n",
    "\n",
    "Installs the `NISAR_EA_Workshop_2024_10` conda environment, which is used by all other notebooks in this Jupyter Book.\n",
    "\n",
    "---\n",
    "## 1. Build the `opensarlab_mintpy_recipe_book` Conda Environment\n",
    "\n",
    "*Note: We use a conda environment config with all packages pinned for stability: `pinned_environment.yaml'*\n",
    "\n",
    "*There is an unpinned `environment.yaml` provided, but it may not remain stable with dependency updates, which can occur any time*"
   ]
  },
  {
   "cell_type": "code",
   "execution_count": null,
   "id": "6cd8b5d4-fa91-4b04-83ed-f00f0cb3f190",
   "metadata": {},
   "outputs": [],
   "source": [
    "from pathlib import Path\n",
    "import yaml\n",
    "\n",
    "yaml_name = \"pinned_environment.yaml\"\n",
    "\n",
    "# uncomment to build the unlocked version of the environment\n",
    "# yaml_name = \"environment.yaml\"\n",
    "\n",
    "conda_yaml_pth = list(Path.cwd().glob(yaml_name))[0]\n",
    "with open(conda_yaml_pth, 'r') as f:\n",
    "    try:\n",
    "        env = yaml.safe_load(f)\n",
    "        env_name = env['name']\n",
    "    except yaml.YAMLError:\n",
    "        raise\n",
    "print(f'environment_locked.yaml path: {conda_yaml_pth}')\n",
    "print(f'environment name: {env_name}')"
   ]
  },
  {
   "cell_type": "code",
   "execution_count": null,
   "id": "bc5b7965-e4ad-4406-b292-af1038f19e8e",
   "metadata": {},
   "outputs": [],
   "source": [
    "# If running outside of OpenSARLab, update conda_prefix \n",
    "# to the path of your system's conda envs directory\n",
    "conda_prefix = Path.home()/f\".local/envs/{env_name}\"\n",
    "\n",
    "# Create the environment\n",
    "!mamba env create -f {conda_yaml_pth} --prefix {conda_prefix} --no-default-packages -q --force\n",
    "\n",
    "!{conda_prefix}/bin/python -m ipykernel install --prefix {conda_prefix} --name {env_name}"
   ]
  },
  {
   "cell_type": "markdown",
   "id": "79b874db-ff49-4f67-8c36-21a6199406cc",
   "metadata": {},
   "source": [
    "---\n",
    "## 2. List your environments to confirm that `NISAR_EA_Workshop_2024_10` was created\n",
    "\n",
    "It can take a minute for a new environment to appear as a kernel option in notebooks."
   ]
  },
  {
   "cell_type": "code",
   "execution_count": null,
   "id": "add26a2f-68b6-4d6f-83ee-3db206c82f83",
   "metadata": {},
   "outputs": [],
   "source": [
    "!mamba env list"
   ]
  }
 ],
 "metadata": {
  "kernelspec": {
   "display_name": "base",
   "language": "python",
   "name": "python3"
  },
  "language_info": {
   "codemirror_mode": {
    "name": "ipython",
    "version": 3
   },
   "file_extension": ".py",
   "mimetype": "text/x-python",
   "name": "python",
   "nbconvert_exporter": "python",
   "pygments_lexer": "ipython3",
   "version": "3.11.6"
  }
 },
 "nbformat": 4,
 "nbformat_minor": 5
}
